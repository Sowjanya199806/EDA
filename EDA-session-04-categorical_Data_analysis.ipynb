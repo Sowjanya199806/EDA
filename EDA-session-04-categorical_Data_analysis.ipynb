{
 "cells": [
  {
   "cell_type": "code",
   "execution_count": null,
   "id": "6d2c2dd5-5f4b-4f19-b110-2166f2954978",
   "metadata": {},
   "outputs": [],
   "source": [
    "**Import packages**"
   ]
  },
  {
   "cell_type": "code",
   "execution_count": 1,
   "id": "239bc00d-1bc3-4356-9ce8-fadda077b404",
   "metadata": {},
   "outputs": [],
   "source": [
    "import pandas as pd\n",
    "import numpy as np\n",
    "import matplotlib.pyplot as plt\n",
    "import seaborn as sns"
   ]
  },
  {
   "cell_type": "code",
   "execution_count": 2,
   "id": "16fd37d9-aab9-4982-9a83-5ff28f6184d2",
   "metadata": {},
   "outputs": [
    {
     "data": {
      "text/html": [
       "<div>\n",
       "<style scoped>\n",
       "    .dataframe tbody tr th:only-of-type {\n",
       "        vertical-align: middle;\n",
       "    }\n",
       "\n",
       "    .dataframe tbody tr th {\n",
       "        vertical-align: top;\n",
       "    }\n",
       "\n",
       "    .dataframe thead th {\n",
       "        text-align: right;\n",
       "    }\n",
       "</style>\n",
       "<table border=\"1\" class=\"dataframe\">\n",
       "  <thead>\n",
       "    <tr style=\"text-align: right;\">\n",
       "      <th></th>\n",
       "      <th>case_id</th>\n",
       "      <th>continent</th>\n",
       "      <th>education_of_employee</th>\n",
       "      <th>has_job_experience</th>\n",
       "      <th>requires_job_training</th>\n",
       "      <th>no_of_employees</th>\n",
       "      <th>yr_of_estab</th>\n",
       "      <th>region_of_employment</th>\n",
       "      <th>prevailing_wage</th>\n",
       "      <th>unit_of_wage</th>\n",
       "      <th>full_time_position</th>\n",
       "      <th>case_status</th>\n",
       "    </tr>\n",
       "  </thead>\n",
       "  <tbody>\n",
       "    <tr>\n",
       "      <th>0</th>\n",
       "      <td>EZYV01</td>\n",
       "      <td>Asia</td>\n",
       "      <td>High School</td>\n",
       "      <td>N</td>\n",
       "      <td>N</td>\n",
       "      <td>14513</td>\n",
       "      <td>2007</td>\n",
       "      <td>West</td>\n",
       "      <td>592.2029</td>\n",
       "      <td>Hour</td>\n",
       "      <td>Y</td>\n",
       "      <td>Denied</td>\n",
       "    </tr>\n",
       "    <tr>\n",
       "      <th>1</th>\n",
       "      <td>EZYV02</td>\n",
       "      <td>Asia</td>\n",
       "      <td>Master's</td>\n",
       "      <td>Y</td>\n",
       "      <td>N</td>\n",
       "      <td>2412</td>\n",
       "      <td>2002</td>\n",
       "      <td>Northeast</td>\n",
       "      <td>83425.6500</td>\n",
       "      <td>Year</td>\n",
       "      <td>Y</td>\n",
       "      <td>Certified</td>\n",
       "    </tr>\n",
       "    <tr>\n",
       "      <th>2</th>\n",
       "      <td>EZYV03</td>\n",
       "      <td>Asia</td>\n",
       "      <td>Bachelor's</td>\n",
       "      <td>N</td>\n",
       "      <td>Y</td>\n",
       "      <td>44444</td>\n",
       "      <td>2008</td>\n",
       "      <td>West</td>\n",
       "      <td>122996.8600</td>\n",
       "      <td>Year</td>\n",
       "      <td>Y</td>\n",
       "      <td>Denied</td>\n",
       "    </tr>\n",
       "    <tr>\n",
       "      <th>3</th>\n",
       "      <td>EZYV04</td>\n",
       "      <td>Asia</td>\n",
       "      <td>Bachelor's</td>\n",
       "      <td>N</td>\n",
       "      <td>N</td>\n",
       "      <td>98</td>\n",
       "      <td>1897</td>\n",
       "      <td>West</td>\n",
       "      <td>83434.0300</td>\n",
       "      <td>Year</td>\n",
       "      <td>Y</td>\n",
       "      <td>Denied</td>\n",
       "    </tr>\n",
       "    <tr>\n",
       "      <th>4</th>\n",
       "      <td>EZYV05</td>\n",
       "      <td>Africa</td>\n",
       "      <td>Master's</td>\n",
       "      <td>Y</td>\n",
       "      <td>N</td>\n",
       "      <td>1082</td>\n",
       "      <td>2005</td>\n",
       "      <td>South</td>\n",
       "      <td>149907.3900</td>\n",
       "      <td>Year</td>\n",
       "      <td>Y</td>\n",
       "      <td>Certified</td>\n",
       "    </tr>\n",
       "    <tr>\n",
       "      <th>...</th>\n",
       "      <td>...</td>\n",
       "      <td>...</td>\n",
       "      <td>...</td>\n",
       "      <td>...</td>\n",
       "      <td>...</td>\n",
       "      <td>...</td>\n",
       "      <td>...</td>\n",
       "      <td>...</td>\n",
       "      <td>...</td>\n",
       "      <td>...</td>\n",
       "      <td>...</td>\n",
       "      <td>...</td>\n",
       "    </tr>\n",
       "    <tr>\n",
       "      <th>25475</th>\n",
       "      <td>EZYV25476</td>\n",
       "      <td>Asia</td>\n",
       "      <td>Bachelor's</td>\n",
       "      <td>Y</td>\n",
       "      <td>Y</td>\n",
       "      <td>2601</td>\n",
       "      <td>2008</td>\n",
       "      <td>South</td>\n",
       "      <td>77092.5700</td>\n",
       "      <td>Year</td>\n",
       "      <td>Y</td>\n",
       "      <td>Certified</td>\n",
       "    </tr>\n",
       "    <tr>\n",
       "      <th>25476</th>\n",
       "      <td>EZYV25477</td>\n",
       "      <td>Asia</td>\n",
       "      <td>High School</td>\n",
       "      <td>Y</td>\n",
       "      <td>N</td>\n",
       "      <td>3274</td>\n",
       "      <td>2006</td>\n",
       "      <td>Northeast</td>\n",
       "      <td>279174.7900</td>\n",
       "      <td>Year</td>\n",
       "      <td>Y</td>\n",
       "      <td>Certified</td>\n",
       "    </tr>\n",
       "    <tr>\n",
       "      <th>25477</th>\n",
       "      <td>EZYV25478</td>\n",
       "      <td>Asia</td>\n",
       "      <td>Master's</td>\n",
       "      <td>Y</td>\n",
       "      <td>N</td>\n",
       "      <td>1121</td>\n",
       "      <td>1910</td>\n",
       "      <td>South</td>\n",
       "      <td>146298.8500</td>\n",
       "      <td>Year</td>\n",
       "      <td>N</td>\n",
       "      <td>Certified</td>\n",
       "    </tr>\n",
       "    <tr>\n",
       "      <th>25478</th>\n",
       "      <td>EZYV25479</td>\n",
       "      <td>Asia</td>\n",
       "      <td>Master's</td>\n",
       "      <td>Y</td>\n",
       "      <td>Y</td>\n",
       "      <td>1918</td>\n",
       "      <td>1887</td>\n",
       "      <td>West</td>\n",
       "      <td>86154.7700</td>\n",
       "      <td>Year</td>\n",
       "      <td>Y</td>\n",
       "      <td>Certified</td>\n",
       "    </tr>\n",
       "    <tr>\n",
       "      <th>25479</th>\n",
       "      <td>EZYV25480</td>\n",
       "      <td>Asia</td>\n",
       "      <td>Bachelor's</td>\n",
       "      <td>Y</td>\n",
       "      <td>N</td>\n",
       "      <td>3195</td>\n",
       "      <td>1960</td>\n",
       "      <td>Midwest</td>\n",
       "      <td>70876.9100</td>\n",
       "      <td>Year</td>\n",
       "      <td>Y</td>\n",
       "      <td>Certified</td>\n",
       "    </tr>\n",
       "  </tbody>\n",
       "</table>\n",
       "<p>25480 rows × 12 columns</p>\n",
       "</div>"
      ],
      "text/plain": [
       "         case_id continent education_of_employee has_job_experience  \\\n",
       "0         EZYV01      Asia           High School                  N   \n",
       "1         EZYV02      Asia              Master's                  Y   \n",
       "2         EZYV03      Asia            Bachelor's                  N   \n",
       "3         EZYV04      Asia            Bachelor's                  N   \n",
       "4         EZYV05    Africa              Master's                  Y   \n",
       "...          ...       ...                   ...                ...   \n",
       "25475  EZYV25476      Asia            Bachelor's                  Y   \n",
       "25476  EZYV25477      Asia           High School                  Y   \n",
       "25477  EZYV25478      Asia              Master's                  Y   \n",
       "25478  EZYV25479      Asia              Master's                  Y   \n",
       "25479  EZYV25480      Asia            Bachelor's                  Y   \n",
       "\n",
       "      requires_job_training  no_of_employees  yr_of_estab  \\\n",
       "0                         N            14513         2007   \n",
       "1                         N             2412         2002   \n",
       "2                         Y            44444         2008   \n",
       "3                         N               98         1897   \n",
       "4                         N             1082         2005   \n",
       "...                     ...              ...          ...   \n",
       "25475                     Y             2601         2008   \n",
       "25476                     N             3274         2006   \n",
       "25477                     N             1121         1910   \n",
       "25478                     Y             1918         1887   \n",
       "25479                     N             3195         1960   \n",
       "\n",
       "      region_of_employment  prevailing_wage unit_of_wage full_time_position  \\\n",
       "0                     West         592.2029         Hour                  Y   \n",
       "1                Northeast       83425.6500         Year                  Y   \n",
       "2                     West      122996.8600         Year                  Y   \n",
       "3                     West       83434.0300         Year                  Y   \n",
       "4                    South      149907.3900         Year                  Y   \n",
       "...                    ...              ...          ...                ...   \n",
       "25475                South       77092.5700         Year                  Y   \n",
       "25476            Northeast      279174.7900         Year                  Y   \n",
       "25477                South      146298.8500         Year                  N   \n",
       "25478                 West       86154.7700         Year                  Y   \n",
       "25479              Midwest       70876.9100         Year                  Y   \n",
       "\n",
       "      case_status  \n",
       "0          Denied  \n",
       "1       Certified  \n",
       "2          Denied  \n",
       "3          Denied  \n",
       "4       Certified  \n",
       "...           ...  \n",
       "25475   Certified  \n",
       "25476   Certified  \n",
       "25477   Certified  \n",
       "25478   Certified  \n",
       "25479   Certified  \n",
       "\n",
       "[25480 rows x 12 columns]"
      ]
     },
     "execution_count": 2,
     "metadata": {},
     "output_type": "execute_result"
    }
   ],
   "source": [
    "visa_df=pd.read_csv(r\"C:\\Users\\sowja\\Downloads\\Visadataset - Visadataset (2).csv\")\n",
    "visa_df"
   ]
  },
  {
   "cell_type": "code",
   "execution_count": 3,
   "id": "a32f3958-1cf1-4b98-a913-8ab48c7f43ad",
   "metadata": {},
   "outputs": [
    {
     "data": {
      "text/html": [
       "<div>\n",
       "<style scoped>\n",
       "    .dataframe tbody tr th:only-of-type {\n",
       "        vertical-align: middle;\n",
       "    }\n",
       "\n",
       "    .dataframe tbody tr th {\n",
       "        vertical-align: top;\n",
       "    }\n",
       "\n",
       "    .dataframe thead th {\n",
       "        text-align: right;\n",
       "    }\n",
       "</style>\n",
       "<table border=\"1\" class=\"dataframe\">\n",
       "  <thead>\n",
       "    <tr style=\"text-align: right;\">\n",
       "      <th></th>\n",
       "      <th>case_id</th>\n",
       "      <th>continent</th>\n",
       "      <th>education_of_employee</th>\n",
       "      <th>has_job_experience</th>\n",
       "      <th>requires_job_training</th>\n",
       "      <th>no_of_employees</th>\n",
       "      <th>yr_of_estab</th>\n",
       "      <th>region_of_employment</th>\n",
       "      <th>prevailing_wage</th>\n",
       "      <th>unit_of_wage</th>\n",
       "      <th>full_time_position</th>\n",
       "      <th>case_status</th>\n",
       "    </tr>\n",
       "  </thead>\n",
       "  <tbody>\n",
       "    <tr>\n",
       "      <th>0</th>\n",
       "      <td>EZYV01</td>\n",
       "      <td>Asia</td>\n",
       "      <td>High School</td>\n",
       "      <td>N</td>\n",
       "      <td>N</td>\n",
       "      <td>14513</td>\n",
       "      <td>2007</td>\n",
       "      <td>West</td>\n",
       "      <td>592.2029</td>\n",
       "      <td>Hour</td>\n",
       "      <td>Y</td>\n",
       "      <td>Denied</td>\n",
       "    </tr>\n",
       "    <tr>\n",
       "      <th>1</th>\n",
       "      <td>EZYV02</td>\n",
       "      <td>Asia</td>\n",
       "      <td>Master's</td>\n",
       "      <td>Y</td>\n",
       "      <td>N</td>\n",
       "      <td>2412</td>\n",
       "      <td>2002</td>\n",
       "      <td>Northeast</td>\n",
       "      <td>83425.6500</td>\n",
       "      <td>Year</td>\n",
       "      <td>Y</td>\n",
       "      <td>Certified</td>\n",
       "    </tr>\n",
       "  </tbody>\n",
       "</table>\n",
       "</div>"
      ],
      "text/plain": [
       "  case_id continent education_of_employee has_job_experience  \\\n",
       "0  EZYV01      Asia           High School                  N   \n",
       "1  EZYV02      Asia              Master's                  Y   \n",
       "\n",
       "  requires_job_training  no_of_employees  yr_of_estab region_of_employment  \\\n",
       "0                     N            14513         2007                 West   \n",
       "1                     N             2412         2002            Northeast   \n",
       "\n",
       "   prevailing_wage unit_of_wage full_time_position case_status  \n",
       "0         592.2029         Hour                  Y      Denied  \n",
       "1       83425.6500         Year                  Y   Certified  "
      ]
     },
     "execution_count": 3,
     "metadata": {},
     "output_type": "execute_result"
    }
   ],
   "source": [
    "visa_df=pd.read_csv(r\"C:\\Users\\sowja\\Downloads\\Visadataset - Visadataset (2).csv\")\n",
    "visa_df.head(2)"
   ]
  },
  {
   "cell_type": "code",
   "execution_count": null,
   "id": "8c5d7161-ccb4-4924-86e7-ec1d252c490c",
   "metadata": {},
   "outputs": [],
   "source": []
  },
  {
   "cell_type": "markdown",
   "id": "2479b86f-dddb-4007-a3a2-dddabbf50e11",
   "metadata": {},
   "source": [
    "$**Continet**$"
   ]
  },
  {
   "cell_type": "code",
   "execution_count": 4,
   "id": "46a5cd7e-be7b-4984-8712-0c54afb09b96",
   "metadata": {},
   "outputs": [
    {
     "data": {
      "text/html": [
       "<div>\n",
       "<style scoped>\n",
       "    .dataframe tbody tr th:only-of-type {\n",
       "        vertical-align: middle;\n",
       "    }\n",
       "\n",
       "    .dataframe tbody tr th {\n",
       "        vertical-align: top;\n",
       "    }\n",
       "\n",
       "    .dataframe thead th {\n",
       "        text-align: right;\n",
       "    }\n",
       "</style>\n",
       "<table border=\"1\" class=\"dataframe\">\n",
       "  <thead>\n",
       "    <tr style=\"text-align: right;\">\n",
       "      <th></th>\n",
       "      <th>continent</th>\n",
       "    </tr>\n",
       "  </thead>\n",
       "  <tbody>\n",
       "    <tr>\n",
       "      <th>0</th>\n",
       "      <td>Asia</td>\n",
       "    </tr>\n",
       "    <tr>\n",
       "      <th>1</th>\n",
       "      <td>Asia</td>\n",
       "    </tr>\n",
       "    <tr>\n",
       "      <th>2</th>\n",
       "      <td>Asia</td>\n",
       "    </tr>\n",
       "    <tr>\n",
       "      <th>3</th>\n",
       "      <td>Asia</td>\n",
       "    </tr>\n",
       "    <tr>\n",
       "      <th>4</th>\n",
       "      <td>Africa</td>\n",
       "    </tr>\n",
       "    <tr>\n",
       "      <th>...</th>\n",
       "      <td>...</td>\n",
       "    </tr>\n",
       "    <tr>\n",
       "      <th>25475</th>\n",
       "      <td>Asia</td>\n",
       "    </tr>\n",
       "    <tr>\n",
       "      <th>25476</th>\n",
       "      <td>Asia</td>\n",
       "    </tr>\n",
       "    <tr>\n",
       "      <th>25477</th>\n",
       "      <td>Asia</td>\n",
       "    </tr>\n",
       "    <tr>\n",
       "      <th>25478</th>\n",
       "      <td>Asia</td>\n",
       "    </tr>\n",
       "    <tr>\n",
       "      <th>25479</th>\n",
       "      <td>Asia</td>\n",
       "    </tr>\n",
       "  </tbody>\n",
       "</table>\n",
       "<p>25480 rows × 1 columns</p>\n",
       "</div>"
      ],
      "text/plain": [
       "      continent\n",
       "0          Asia\n",
       "1          Asia\n",
       "2          Asia\n",
       "3          Asia\n",
       "4        Africa\n",
       "...         ...\n",
       "25475      Asia\n",
       "25476      Asia\n",
       "25477      Asia\n",
       "25478      Asia\n",
       "25479      Asia\n",
       "\n",
       "[25480 rows x 1 columns]"
      ]
     },
     "execution_count": 4,
     "metadata": {},
     "output_type": "execute_result"
    }
   ],
   "source": [
    "visa_df[['continent']]"
   ]
  },
  {
   "cell_type": "code",
   "execution_count": 5,
   "id": "1d724d46-ce28-4a46-ad53-1c3f4b0f5cf8",
   "metadata": {},
   "outputs": [
    {
     "data": {
      "text/plain": [
       "0          Asia\n",
       "1          Asia\n",
       "2          Asia\n",
       "3          Asia\n",
       "4        Africa\n",
       "          ...  \n",
       "25475      Asia\n",
       "25476      Asia\n",
       "25477      Asia\n",
       "25478      Asia\n",
       "25479      Asia\n",
       "Name: continent, Length: 25480, dtype: object"
      ]
     },
     "execution_count": 5,
     "metadata": {},
     "output_type": "execute_result"
    }
   ],
   "source": [
    "visa_df['continent']  #  This is series type"
   ]
  },
  {
   "cell_type": "code",
   "execution_count": 6,
   "id": "cb611327-d3c2-4e2c-ac13-b6ce909f2214",
   "metadata": {},
   "outputs": [
    {
     "data": {
      "text/plain": [
       "0          Asia\n",
       "1          Asia\n",
       "2          Asia\n",
       "3          Asia\n",
       "4        Africa\n",
       "          ...  \n",
       "25475      Asia\n",
       "25476      Asia\n",
       "25477      Asia\n",
       "25478      Asia\n",
       "25479      Asia\n",
       "Name: continent, Length: 25480, dtype: object"
      ]
     },
     "execution_count": 6,
     "metadata": {},
     "output_type": "execute_result"
    }
   ],
   "source": [
    "visa_df.continent  # series\n"
   ]
  },
  {
   "cell_type": "code",
   "execution_count": 7,
   "id": "47ef2bc8-3c21-441d-a121-5e567dedbe49",
   "metadata": {},
   "outputs": [
    {
     "data": {
      "text/plain": [
       "0          Asia\n",
       "1          Asia\n",
       "2          Asia\n",
       "3          Asia\n",
       "4        Africa\n",
       "          ...  \n",
       "25475      Asia\n",
       "25476      Asia\n",
       "25477      Asia\n",
       "25478      Asia\n",
       "25479      Asia\n",
       "Name: continent, Length: 25480, dtype: object"
      ]
     },
     "execution_count": 7,
     "metadata": {},
     "output_type": "execute_result"
    }
   ],
   "source": [
    "# different ways to read the dataFrame\n",
    "visa_df[['continent']]\n",
    "visa_df['continent']\n",
    "visa_df.continent"
   ]
  },
  {
   "cell_type": "code",
   "execution_count": null,
   "id": "3383248c-63d1-41e5-b626-f4c5b73eec40",
   "metadata": {},
   "outputs": [],
   "source": []
  },
  {
   "cell_type": "markdown",
   "id": "7d0318d3-53fa-4c70-978e-cea8abee3f30",
   "metadata": {},
   "source": [
    "**Unique**"
   ]
  },
  {
   "cell_type": "code",
   "execution_count": null,
   "id": "2feb9763-d41f-41bc-83fe-e01d4a58fc33",
   "metadata": {},
   "outputs": [],
   "source": []
  },
  {
   "cell_type": "code",
   "execution_count": 8,
   "id": "df43befd-3415-48cc-837c-b81d0c27e3ef",
   "metadata": {},
   "outputs": [
    {
     "data": {
      "text/plain": [
       "array(['Asia', 'Africa', 'North America', 'Europe', 'South America',\n",
       "       'Oceania'], dtype=object)"
      ]
     },
     "execution_count": 8,
     "metadata": {},
     "output_type": "execute_result"
    }
   ],
   "source": [
    "visa_df['continent'].unique()\n",
    "# unique method only availablee only on series"
   ]
  },
  {
   "cell_type": "code",
   "execution_count": 9,
   "id": "45a72cb7-528e-473b-bb67-e08a4d6fe7d7",
   "metadata": {},
   "outputs": [
    {
     "data": {
      "text/plain": [
       "6"
      ]
     },
     "execution_count": 9,
     "metadata": {},
     "output_type": "execute_result"
    }
   ],
   "source": [
    "len(visa_df['continent'].unique())    # 6 unique values r  there"
   ]
  },
  {
   "cell_type": "code",
   "execution_count": null,
   "id": "ecbe7c43-de51-4923-a970-ebb82db74df4",
   "metadata": {},
   "outputs": [],
   "source": [
    "# in ur visa_df total 25480 rows r there\n"
   ]
  },
  {
   "cell_type": "code",
   "execution_count": null,
   "id": "01722d0e-b460-4d0a-841e-bb7396283fc9",
   "metadata": {},
   "outputs": [],
   "source": []
  },
  {
   "cell_type": "markdown",
   "id": "cd2f3953-5a2c-4f10-8c43-c410217059f4",
   "metadata": {},
   "source": [
    "**nunique** # number unique"
   ]
  },
  {
   "cell_type": "code",
   "execution_count": 10,
   "id": "aba26e86-9093-45e2-bbfb-4b1d292d3bb4",
   "metadata": {},
   "outputs": [
    {
     "data": {
      "text/plain": [
       "6"
      ]
     },
     "execution_count": 10,
     "metadata": {},
     "output_type": "execute_result"
    }
   ],
   "source": [
    "visa_df['continent'].nunique()"
   ]
  },
  {
   "cell_type": "code",
   "execution_count": null,
   "id": "e00e45d0-8dee-46e4-b494-4f41e0c756bf",
   "metadata": {},
   "outputs": [],
   "source": []
  },
  {
   "cell_type": "code",
   "execution_count": null,
   "id": "2d7ba5e5-12c8-4a51-808f-16f6f970b48b",
   "metadata": {},
   "outputs": [],
   "source": [
    "**task-1**\n",
    "\n",
    "i want to know how many numbers from asia\n",
    "\n",
    "in the entire data we have 25480 rows available , in that how many r from asia"
   ]
  },
  {
   "cell_type": "code",
   "execution_count": 11,
   "id": "cb5bc56b-6027-4c89-8764-0496e46b538a",
   "metadata": {},
   "outputs": [
    {
     "data": {
      "text/plain": [
       "0         True\n",
       "1         True\n",
       "2         True\n",
       "3         True\n",
       "4        False\n",
       "         ...  \n",
       "25475     True\n",
       "25476     True\n",
       "25477     True\n",
       "25478     True\n",
       "25479     True\n",
       "Name: continent, Length: 25480, dtype: bool"
      ]
     },
     "execution_count": 11,
     "metadata": {},
     "output_type": "execute_result"
    }
   ],
   "source": [
    "visa_df['continent']=='Asia'"
   ]
  },
  {
   "cell_type": "code",
   "execution_count": 12,
   "id": "37c38769-be45-4c6d-ab23-3484712e8d77",
   "metadata": {},
   "outputs": [
    {
     "data": {
      "text/html": [
       "<div>\n",
       "<style scoped>\n",
       "    .dataframe tbody tr th:only-of-type {\n",
       "        vertical-align: middle;\n",
       "    }\n",
       "\n",
       "    .dataframe tbody tr th {\n",
       "        vertical-align: top;\n",
       "    }\n",
       "\n",
       "    .dataframe thead th {\n",
       "        text-align: right;\n",
       "    }\n",
       "</style>\n",
       "<table border=\"1\" class=\"dataframe\">\n",
       "  <thead>\n",
       "    <tr style=\"text-align: right;\">\n",
       "      <th></th>\n",
       "      <th>case_id</th>\n",
       "      <th>continent</th>\n",
       "      <th>education_of_employee</th>\n",
       "      <th>has_job_experience</th>\n",
       "      <th>requires_job_training</th>\n",
       "      <th>no_of_employees</th>\n",
       "      <th>yr_of_estab</th>\n",
       "      <th>region_of_employment</th>\n",
       "      <th>prevailing_wage</th>\n",
       "      <th>unit_of_wage</th>\n",
       "      <th>full_time_position</th>\n",
       "      <th>case_status</th>\n",
       "    </tr>\n",
       "  </thead>\n",
       "  <tbody>\n",
       "    <tr>\n",
       "      <th>0</th>\n",
       "      <td>EZYV01</td>\n",
       "      <td>Asia</td>\n",
       "      <td>High School</td>\n",
       "      <td>N</td>\n",
       "      <td>N</td>\n",
       "      <td>14513</td>\n",
       "      <td>2007</td>\n",
       "      <td>West</td>\n",
       "      <td>592.2029</td>\n",
       "      <td>Hour</td>\n",
       "      <td>Y</td>\n",
       "      <td>Denied</td>\n",
       "    </tr>\n",
       "    <tr>\n",
       "      <th>1</th>\n",
       "      <td>EZYV02</td>\n",
       "      <td>Asia</td>\n",
       "      <td>Master's</td>\n",
       "      <td>Y</td>\n",
       "      <td>N</td>\n",
       "      <td>2412</td>\n",
       "      <td>2002</td>\n",
       "      <td>Northeast</td>\n",
       "      <td>83425.6500</td>\n",
       "      <td>Year</td>\n",
       "      <td>Y</td>\n",
       "      <td>Certified</td>\n",
       "    </tr>\n",
       "    <tr>\n",
       "      <th>2</th>\n",
       "      <td>EZYV03</td>\n",
       "      <td>Asia</td>\n",
       "      <td>Bachelor's</td>\n",
       "      <td>N</td>\n",
       "      <td>Y</td>\n",
       "      <td>44444</td>\n",
       "      <td>2008</td>\n",
       "      <td>West</td>\n",
       "      <td>122996.8600</td>\n",
       "      <td>Year</td>\n",
       "      <td>Y</td>\n",
       "      <td>Denied</td>\n",
       "    </tr>\n",
       "    <tr>\n",
       "      <th>3</th>\n",
       "      <td>EZYV04</td>\n",
       "      <td>Asia</td>\n",
       "      <td>Bachelor's</td>\n",
       "      <td>N</td>\n",
       "      <td>N</td>\n",
       "      <td>98</td>\n",
       "      <td>1897</td>\n",
       "      <td>West</td>\n",
       "      <td>83434.0300</td>\n",
       "      <td>Year</td>\n",
       "      <td>Y</td>\n",
       "      <td>Denied</td>\n",
       "    </tr>\n",
       "    <tr>\n",
       "      <th>5</th>\n",
       "      <td>EZYV06</td>\n",
       "      <td>Asia</td>\n",
       "      <td>Master's</td>\n",
       "      <td>Y</td>\n",
       "      <td>N</td>\n",
       "      <td>2339</td>\n",
       "      <td>2012</td>\n",
       "      <td>South</td>\n",
       "      <td>78252.1400</td>\n",
       "      <td>Year</td>\n",
       "      <td>Y</td>\n",
       "      <td>Certified</td>\n",
       "    </tr>\n",
       "    <tr>\n",
       "      <th>...</th>\n",
       "      <td>...</td>\n",
       "      <td>...</td>\n",
       "      <td>...</td>\n",
       "      <td>...</td>\n",
       "      <td>...</td>\n",
       "      <td>...</td>\n",
       "      <td>...</td>\n",
       "      <td>...</td>\n",
       "      <td>...</td>\n",
       "      <td>...</td>\n",
       "      <td>...</td>\n",
       "      <td>...</td>\n",
       "    </tr>\n",
       "    <tr>\n",
       "      <th>25475</th>\n",
       "      <td>EZYV25476</td>\n",
       "      <td>Asia</td>\n",
       "      <td>Bachelor's</td>\n",
       "      <td>Y</td>\n",
       "      <td>Y</td>\n",
       "      <td>2601</td>\n",
       "      <td>2008</td>\n",
       "      <td>South</td>\n",
       "      <td>77092.5700</td>\n",
       "      <td>Year</td>\n",
       "      <td>Y</td>\n",
       "      <td>Certified</td>\n",
       "    </tr>\n",
       "    <tr>\n",
       "      <th>25476</th>\n",
       "      <td>EZYV25477</td>\n",
       "      <td>Asia</td>\n",
       "      <td>High School</td>\n",
       "      <td>Y</td>\n",
       "      <td>N</td>\n",
       "      <td>3274</td>\n",
       "      <td>2006</td>\n",
       "      <td>Northeast</td>\n",
       "      <td>279174.7900</td>\n",
       "      <td>Year</td>\n",
       "      <td>Y</td>\n",
       "      <td>Certified</td>\n",
       "    </tr>\n",
       "    <tr>\n",
       "      <th>25477</th>\n",
       "      <td>EZYV25478</td>\n",
       "      <td>Asia</td>\n",
       "      <td>Master's</td>\n",
       "      <td>Y</td>\n",
       "      <td>N</td>\n",
       "      <td>1121</td>\n",
       "      <td>1910</td>\n",
       "      <td>South</td>\n",
       "      <td>146298.8500</td>\n",
       "      <td>Year</td>\n",
       "      <td>N</td>\n",
       "      <td>Certified</td>\n",
       "    </tr>\n",
       "    <tr>\n",
       "      <th>25478</th>\n",
       "      <td>EZYV25479</td>\n",
       "      <td>Asia</td>\n",
       "      <td>Master's</td>\n",
       "      <td>Y</td>\n",
       "      <td>Y</td>\n",
       "      <td>1918</td>\n",
       "      <td>1887</td>\n",
       "      <td>West</td>\n",
       "      <td>86154.7700</td>\n",
       "      <td>Year</td>\n",
       "      <td>Y</td>\n",
       "      <td>Certified</td>\n",
       "    </tr>\n",
       "    <tr>\n",
       "      <th>25479</th>\n",
       "      <td>EZYV25480</td>\n",
       "      <td>Asia</td>\n",
       "      <td>Bachelor's</td>\n",
       "      <td>Y</td>\n",
       "      <td>N</td>\n",
       "      <td>3195</td>\n",
       "      <td>1960</td>\n",
       "      <td>Midwest</td>\n",
       "      <td>70876.9100</td>\n",
       "      <td>Year</td>\n",
       "      <td>Y</td>\n",
       "      <td>Certified</td>\n",
       "    </tr>\n",
       "  </tbody>\n",
       "</table>\n",
       "<p>16861 rows × 12 columns</p>\n",
       "</div>"
      ],
      "text/plain": [
       "         case_id continent education_of_employee has_job_experience  \\\n",
       "0         EZYV01      Asia           High School                  N   \n",
       "1         EZYV02      Asia              Master's                  Y   \n",
       "2         EZYV03      Asia            Bachelor's                  N   \n",
       "3         EZYV04      Asia            Bachelor's                  N   \n",
       "5         EZYV06      Asia              Master's                  Y   \n",
       "...          ...       ...                   ...                ...   \n",
       "25475  EZYV25476      Asia            Bachelor's                  Y   \n",
       "25476  EZYV25477      Asia           High School                  Y   \n",
       "25477  EZYV25478      Asia              Master's                  Y   \n",
       "25478  EZYV25479      Asia              Master's                  Y   \n",
       "25479  EZYV25480      Asia            Bachelor's                  Y   \n",
       "\n",
       "      requires_job_training  no_of_employees  yr_of_estab  \\\n",
       "0                         N            14513         2007   \n",
       "1                         N             2412         2002   \n",
       "2                         Y            44444         2008   \n",
       "3                         N               98         1897   \n",
       "5                         N             2339         2012   \n",
       "...                     ...              ...          ...   \n",
       "25475                     Y             2601         2008   \n",
       "25476                     N             3274         2006   \n",
       "25477                     N             1121         1910   \n",
       "25478                     Y             1918         1887   \n",
       "25479                     N             3195         1960   \n",
       "\n",
       "      region_of_employment  prevailing_wage unit_of_wage full_time_position  \\\n",
       "0                     West         592.2029         Hour                  Y   \n",
       "1                Northeast       83425.6500         Year                  Y   \n",
       "2                     West      122996.8600         Year                  Y   \n",
       "3                     West       83434.0300         Year                  Y   \n",
       "5                    South       78252.1400         Year                  Y   \n",
       "...                    ...              ...          ...                ...   \n",
       "25475                South       77092.5700         Year                  Y   \n",
       "25476            Northeast      279174.7900         Year                  Y   \n",
       "25477                South      146298.8500         Year                  N   \n",
       "25478                 West       86154.7700         Year                  Y   \n",
       "25479              Midwest       70876.9100         Year                  Y   \n",
       "\n",
       "      case_status  \n",
       "0          Denied  \n",
       "1       Certified  \n",
       "2          Denied  \n",
       "3          Denied  \n",
       "5       Certified  \n",
       "...           ...  \n",
       "25475   Certified  \n",
       "25476   Certified  \n",
       "25477   Certified  \n",
       "25478   Certified  \n",
       "25479   Certified  \n",
       "\n",
       "[16861 rows x 12 columns]"
      ]
     },
     "execution_count": 12,
     "metadata": {},
     "output_type": "execute_result"
    }
   ],
   "source": [
    "con=visa_df['continent']=='Asia'\n",
    "visa_df[con]"
   ]
  },
  {
   "cell_type": "code",
   "execution_count": 13,
   "id": "29dcd86c-969d-4216-9005-ef80d031d8da",
   "metadata": {},
   "outputs": [
    {
     "data": {
      "text/plain": [
       "16861"
      ]
     },
     "execution_count": 13,
     "metadata": {},
     "output_type": "execute_result"
    }
   ],
   "source": [
    "con=visa_df['continent']=='Asia'\n",
    "len(visa_df[con])"
   ]
  },
  {
   "cell_type": "code",
   "execution_count": 14,
   "id": "9b4265a8-3678-4f65-bcae-533674c2521f",
   "metadata": {},
   "outputs": [
    {
     "data": {
      "text/html": [
       "<div>\n",
       "<style scoped>\n",
       "    .dataframe tbody tr th:only-of-type {\n",
       "        vertical-align: middle;\n",
       "    }\n",
       "\n",
       "    .dataframe tbody tr th {\n",
       "        vertical-align: top;\n",
       "    }\n",
       "\n",
       "    .dataframe thead th {\n",
       "        text-align: right;\n",
       "    }\n",
       "</style>\n",
       "<table border=\"1\" class=\"dataframe\">\n",
       "  <thead>\n",
       "    <tr style=\"text-align: right;\">\n",
       "      <th></th>\n",
       "      <th>case_id</th>\n",
       "      <th>continent</th>\n",
       "      <th>education_of_employee</th>\n",
       "      <th>has_job_experience</th>\n",
       "      <th>requires_job_training</th>\n",
       "      <th>no_of_employees</th>\n",
       "      <th>yr_of_estab</th>\n",
       "      <th>region_of_employment</th>\n",
       "      <th>prevailing_wage</th>\n",
       "      <th>unit_of_wage</th>\n",
       "      <th>full_time_position</th>\n",
       "      <th>case_status</th>\n",
       "    </tr>\n",
       "  </thead>\n",
       "  <tbody>\n",
       "    <tr>\n",
       "      <th>4</th>\n",
       "      <td>EZYV05</td>\n",
       "      <td>Africa</td>\n",
       "      <td>Master's</td>\n",
       "      <td>Y</td>\n",
       "      <td>N</td>\n",
       "      <td>1082</td>\n",
       "      <td>2005</td>\n",
       "      <td>South</td>\n",
       "      <td>149907.39</td>\n",
       "      <td>Year</td>\n",
       "      <td>Y</td>\n",
       "      <td>Certified</td>\n",
       "    </tr>\n",
       "    <tr>\n",
       "      <th>18</th>\n",
       "      <td>EZYV19</td>\n",
       "      <td>Africa</td>\n",
       "      <td>Master's</td>\n",
       "      <td>Y</td>\n",
       "      <td>N</td>\n",
       "      <td>4743</td>\n",
       "      <td>2004</td>\n",
       "      <td>Midwest</td>\n",
       "      <td>150441.13</td>\n",
       "      <td>Year</td>\n",
       "      <td>Y</td>\n",
       "      <td>Certified</td>\n",
       "    </tr>\n",
       "    <tr>\n",
       "      <th>74</th>\n",
       "      <td>EZYV75</td>\n",
       "      <td>Africa</td>\n",
       "      <td>Master's</td>\n",
       "      <td>Y</td>\n",
       "      <td>N</td>\n",
       "      <td>3705</td>\n",
       "      <td>2001</td>\n",
       "      <td>South</td>\n",
       "      <td>47170.76</td>\n",
       "      <td>Year</td>\n",
       "      <td>Y</td>\n",
       "      <td>Certified</td>\n",
       "    </tr>\n",
       "    <tr>\n",
       "      <th>194</th>\n",
       "      <td>EZYV195</td>\n",
       "      <td>Africa</td>\n",
       "      <td>Master's</td>\n",
       "      <td>Y</td>\n",
       "      <td>N</td>\n",
       "      <td>2180</td>\n",
       "      <td>1992</td>\n",
       "      <td>Midwest</td>\n",
       "      <td>113637.40</td>\n",
       "      <td>Year</td>\n",
       "      <td>Y</td>\n",
       "      <td>Certified</td>\n",
       "    </tr>\n",
       "    <tr>\n",
       "      <th>242</th>\n",
       "      <td>EZYV243</td>\n",
       "      <td>Africa</td>\n",
       "      <td>Bachelor's</td>\n",
       "      <td>N</td>\n",
       "      <td>Y</td>\n",
       "      <td>2509</td>\n",
       "      <td>2003</td>\n",
       "      <td>West</td>\n",
       "      <td>51886.04</td>\n",
       "      <td>Year</td>\n",
       "      <td>Y</td>\n",
       "      <td>Denied</td>\n",
       "    </tr>\n",
       "    <tr>\n",
       "      <th>...</th>\n",
       "      <td>...</td>\n",
       "      <td>...</td>\n",
       "      <td>...</td>\n",
       "      <td>...</td>\n",
       "      <td>...</td>\n",
       "      <td>...</td>\n",
       "      <td>...</td>\n",
       "      <td>...</td>\n",
       "      <td>...</td>\n",
       "      <td>...</td>\n",
       "      <td>...</td>\n",
       "      <td>...</td>\n",
       "    </tr>\n",
       "    <tr>\n",
       "      <th>25385</th>\n",
       "      <td>EZYV25386</td>\n",
       "      <td>Africa</td>\n",
       "      <td>Doctorate</td>\n",
       "      <td>Y</td>\n",
       "      <td>N</td>\n",
       "      <td>2513</td>\n",
       "      <td>1975</td>\n",
       "      <td>West</td>\n",
       "      <td>76348.20</td>\n",
       "      <td>Year</td>\n",
       "      <td>Y</td>\n",
       "      <td>Certified</td>\n",
       "    </tr>\n",
       "    <tr>\n",
       "      <th>25408</th>\n",
       "      <td>EZYV25409</td>\n",
       "      <td>Africa</td>\n",
       "      <td>Master's</td>\n",
       "      <td>Y</td>\n",
       "      <td>Y</td>\n",
       "      <td>1671</td>\n",
       "      <td>1992</td>\n",
       "      <td>Midwest</td>\n",
       "      <td>55756.35</td>\n",
       "      <td>Year</td>\n",
       "      <td>Y</td>\n",
       "      <td>Certified</td>\n",
       "    </tr>\n",
       "    <tr>\n",
       "      <th>25443</th>\n",
       "      <td>EZYV25444</td>\n",
       "      <td>Africa</td>\n",
       "      <td>Bachelor's</td>\n",
       "      <td>N</td>\n",
       "      <td>N</td>\n",
       "      <td>72892</td>\n",
       "      <td>2007</td>\n",
       "      <td>Northeast</td>\n",
       "      <td>215.10</td>\n",
       "      <td>Hour</td>\n",
       "      <td>Y</td>\n",
       "      <td>Certified</td>\n",
       "    </tr>\n",
       "    <tr>\n",
       "      <th>25446</th>\n",
       "      <td>EZYV25447</td>\n",
       "      <td>Africa</td>\n",
       "      <td>Master's</td>\n",
       "      <td>N</td>\n",
       "      <td>Y</td>\n",
       "      <td>2024</td>\n",
       "      <td>1971</td>\n",
       "      <td>South</td>\n",
       "      <td>42353.45</td>\n",
       "      <td>Year</td>\n",
       "      <td>Y</td>\n",
       "      <td>Certified</td>\n",
       "    </tr>\n",
       "    <tr>\n",
       "      <th>25474</th>\n",
       "      <td>EZYV25475</td>\n",
       "      <td>Africa</td>\n",
       "      <td>Doctorate</td>\n",
       "      <td>N</td>\n",
       "      <td>N</td>\n",
       "      <td>2594</td>\n",
       "      <td>1979</td>\n",
       "      <td>Northeast</td>\n",
       "      <td>51104.78</td>\n",
       "      <td>Year</td>\n",
       "      <td>Y</td>\n",
       "      <td>Certified</td>\n",
       "    </tr>\n",
       "  </tbody>\n",
       "</table>\n",
       "<p>551 rows × 12 columns</p>\n",
       "</div>"
      ],
      "text/plain": [
       "         case_id continent education_of_employee has_job_experience  \\\n",
       "4         EZYV05    Africa              Master's                  Y   \n",
       "18        EZYV19    Africa              Master's                  Y   \n",
       "74        EZYV75    Africa              Master's                  Y   \n",
       "194      EZYV195    Africa              Master's                  Y   \n",
       "242      EZYV243    Africa            Bachelor's                  N   \n",
       "...          ...       ...                   ...                ...   \n",
       "25385  EZYV25386    Africa             Doctorate                  Y   \n",
       "25408  EZYV25409    Africa              Master's                  Y   \n",
       "25443  EZYV25444    Africa            Bachelor's                  N   \n",
       "25446  EZYV25447    Africa              Master's                  N   \n",
       "25474  EZYV25475    Africa             Doctorate                  N   \n",
       "\n",
       "      requires_job_training  no_of_employees  yr_of_estab  \\\n",
       "4                         N             1082         2005   \n",
       "18                        N             4743         2004   \n",
       "74                        N             3705         2001   \n",
       "194                       N             2180         1992   \n",
       "242                       Y             2509         2003   \n",
       "...                     ...              ...          ...   \n",
       "25385                     N             2513         1975   \n",
       "25408                     Y             1671         1992   \n",
       "25443                     N            72892         2007   \n",
       "25446                     Y             2024         1971   \n",
       "25474                     N             2594         1979   \n",
       "\n",
       "      region_of_employment  prevailing_wage unit_of_wage full_time_position  \\\n",
       "4                    South        149907.39         Year                  Y   \n",
       "18                 Midwest        150441.13         Year                  Y   \n",
       "74                   South         47170.76         Year                  Y   \n",
       "194                Midwest        113637.40         Year                  Y   \n",
       "242                   West         51886.04         Year                  Y   \n",
       "...                    ...              ...          ...                ...   \n",
       "25385                 West         76348.20         Year                  Y   \n",
       "25408              Midwest         55756.35         Year                  Y   \n",
       "25443            Northeast           215.10         Hour                  Y   \n",
       "25446                South         42353.45         Year                  Y   \n",
       "25474            Northeast         51104.78         Year                  Y   \n",
       "\n",
       "      case_status  \n",
       "4       Certified  \n",
       "18      Certified  \n",
       "74      Certified  \n",
       "194     Certified  \n",
       "242        Denied  \n",
       "...           ...  \n",
       "25385   Certified  \n",
       "25408   Certified  \n",
       "25443   Certified  \n",
       "25446   Certified  \n",
       "25474   Certified  \n",
       "\n",
       "[551 rows x 12 columns]"
      ]
     },
     "execution_count": 14,
     "metadata": {},
     "output_type": "execute_result"
    }
   ],
   "source": [
    "con=visa_df['continent']=='Africa'\n",
    "visa_df[con]"
   ]
  },
  {
   "cell_type": "code",
   "execution_count": 15,
   "id": "489c318a-9c06-4307-b055-7cb937db0a11",
   "metadata": {},
   "outputs": [
    {
     "data": {
      "text/plain": [
       "551"
      ]
     },
     "execution_count": 15,
     "metadata": {},
     "output_type": "execute_result"
    }
   ],
   "source": [
    "con=visa_df['continent']=='Africa'\n",
    "len(visa_df[con])"
   ]
  },
  {
   "cell_type": "code",
   "execution_count": 16,
   "id": "0aea2ae8-c643-43a7-a133-a65d5ae57b77",
   "metadata": {},
   "outputs": [
    {
     "name": "stdout",
     "output_type": "stream",
     "text": [
      "16861\n",
      "551\n",
      "3292\n",
      "3732\n",
      "852\n",
      "192\n"
     ]
    }
   ],
   "source": [
    "unique_cnt=visa_df['continent'].unique()\n",
    "for i in unique_cnt:\n",
    "    con=visa_df['continent']==i\n",
    "    val=len(visa_df[con])\n",
    "    print(val)"
   ]
  },
  {
   "cell_type": "code",
   "execution_count": 17,
   "id": "479aaa01-b3c3-45fb-b073-5d8a742bf172",
   "metadata": {},
   "outputs": [
    {
     "name": "stdout",
     "output_type": "stream",
     "text": [
      "Asia : 16861\n",
      "Africa : 551\n",
      "North America : 3292\n",
      "Europe : 3732\n",
      "South America : 852\n",
      "Oceania : 192\n"
     ]
    }
   ],
   "source": [
    "unique_cnt=visa_df['continent'].unique()\n",
    "for i in unique_cnt:\n",
    "    con=visa_df['continent']==i\n",
    "    val=len(visa_df[con])\n",
    "    print(f\"{i} : {val}\")"
   ]
  },
  {
   "cell_type": "code",
   "execution_count": null,
   "id": "e097db13-a8be-41a2-863e-1019d895d4c4",
   "metadata": {},
   "outputs": [],
   "source": [
    "**Task-2**\n",
    "create a list "
   ]
  },
  {
   "cell_type": "code",
   "execution_count": 18,
   "id": "85573131-0b92-4e16-b3b8-65bf7bdf963e",
   "metadata": {},
   "outputs": [],
   "source": [
    "unique_cnt=visa_df['continent'].unique()\n",
    "count_list=[]\n",
    "for i in unique_cnt:\n",
    "    con=visa_df['continent']==i\n",
    "    val=len(visa_df[con])\n",
    "    count_list.append(val)"
   ]
  },
  {
   "cell_type": "code",
   "execution_count": 19,
   "id": "e4b1ec90-1490-4fcb-98fc-6704e6c7caf7",
   "metadata": {},
   "outputs": [],
   "source": [
    "continent_df=pd.DataFrame(zip(unique_cnt,count_list),\n",
    "             columns=['Continent','Count'])"
   ]
  },
  {
   "cell_type": "code",
   "execution_count": 20,
   "id": "e7436c97-977a-4ef7-8eab-2e09a931941a",
   "metadata": {},
   "outputs": [],
   "source": [
    "continent_df.to_csv('continent_df.csv',index=False)"
   ]
  },
  {
   "cell_type": "markdown",
   "id": "a1dfd4bf-db7c-43c2-b6e5-ffd30ac72a22",
   "metadata": {},
   "source": [
    "**Value count**"
   ]
  },
  {
   "cell_type": "code",
   "execution_count": 21,
   "id": "2daf5a01-a94f-4105-91df-f8c237709b3f",
   "metadata": {},
   "outputs": [
    {
     "data": {
      "text/plain": [
       "continent\n",
       "Asia             16861\n",
       "Europe            3732\n",
       "North America     3292\n",
       "South America      852\n",
       "Africa             551\n",
       "Oceania            192\n",
       "Name: count, dtype: int64"
      ]
     },
     "execution_count": 21,
     "metadata": {},
     "output_type": "execute_result"
    }
   ],
   "source": [
    "visa_df['continent'].value_counts()"
   ]
  },
  {
   "cell_type": "code",
   "execution_count": null,
   "id": "07e324c0-9d2a-41c7-b51d-ff3b90ce3244",
   "metadata": {},
   "outputs": [],
   "source": [
    "'Asia', 'Africa', 'North America', 'Europe', 'South America',\n",
    "       'Oceania"
   ]
  },
  {
   "cell_type": "code",
   "execution_count": null,
   "id": "067b08ec-a7c0-4af7-ab29-97fdf64eff39",
   "metadata": {},
   "outputs": [],
   "source": []
  },
  {
   "cell_type": "markdown",
   "id": "be4cda73-f7e2-4f9b-a137-06f796769fc6",
   "metadata": {},
   "source": [
    "30/05/2024"
   ]
  },
  {
   "cell_type": "markdown",
   "id": "f2bf7a01-f12c-4e91-acf2-cfbd3e2b554d",
   "metadata": {},
   "source": [
    "**Value count**"
   ]
  },
  {
   "cell_type": "code",
   "execution_count": 22,
   "id": "7b66fb88-cde7-4c7f-b267-1446ec788a0b",
   "metadata": {},
   "outputs": [
    {
     "data": {
      "text/plain": [
       "continent\n",
       "Asia             16861\n",
       "Europe            3732\n",
       "North America     3292\n",
       "South America      852\n",
       "Africa             551\n",
       "Oceania            192\n",
       "Name: count, dtype: int64"
      ]
     },
     "execution_count": 22,
     "metadata": {},
     "output_type": "execute_result"
    }
   ],
   "source": [
    "cdf=visa_df['continent'].value_counts() #cdf value counts will give that each continent has \n",
    "cdf"
   ]
  },
  {
   "cell_type": "markdown",
   "id": "53ddf2d5-df30-4fe8-ab6a-197c2ea551ef",
   "metadata": {},
   "source": [
    "**Keys**"
   ]
  },
  {
   "cell_type": "code",
   "execution_count": 23,
   "id": "0c15736c-a620-44a8-ae5a-aa81875a2fa1",
   "metadata": {},
   "outputs": [
    {
     "data": {
      "text/plain": [
       "<bound method Series.keys of continent\n",
       "Asia             16861\n",
       "Europe            3732\n",
       "North America     3292\n",
       "South America      852\n",
       "Africa             551\n",
       "Oceania            192\n",
       "Name: count, dtype: int64>"
      ]
     },
     "execution_count": 23,
     "metadata": {},
     "output_type": "execute_result"
    }
   ],
   "source": [
    "cdf.keys"
   ]
  },
  {
   "cell_type": "markdown",
   "id": "6b58d684-a6e6-434c-80b8-4afb57a50feb",
   "metadata": {},
   "source": [
    "**index**"
   ]
  },
  {
   "cell_type": "code",
   "execution_count": 24,
   "id": "d4396356-74da-4103-bbfb-d31c476fd2c8",
   "metadata": {},
   "outputs": [
    {
     "data": {
      "text/plain": [
       "Index(['Asia', 'Europe', 'North America', 'South America', 'Africa',\n",
       "       'Oceania'],\n",
       "      dtype='object', name='continent')"
      ]
     },
     "execution_count": 24,
     "metadata": {},
     "output_type": "execute_result"
    }
   ],
   "source": [
    "cdf.index"
   ]
  },
  {
   "cell_type": "markdown",
   "id": "05aa9730-6bd2-4608-90cf-fa55bbc8083c",
   "metadata": {},
   "source": [
    "**values**"
   ]
  },
  {
   "cell_type": "code",
   "execution_count": 25,
   "id": "bbda2de6-0c46-457c-bdb2-1687fbabe136",
   "metadata": {},
   "outputs": [
    {
     "data": {
      "text/plain": [
       "array([16861,  3732,  3292,   852,   551,   192], dtype=int64)"
      ]
     },
     "execution_count": 25,
     "metadata": {},
     "output_type": "execute_result"
    }
   ],
   "source": [
    "cdf.values"
   ]
  },
  {
   "cell_type": "markdown",
   "id": "17de038b-af29-4a05-b45e-eae9bbbcb4a0",
   "metadata": {},
   "source": [
    "**BAR Chart**\n",
    "\n",
    "- bar chart is representation of counts with respect to classes\n",
    "\n",
    "- if we want bar chart we required 2 columns\n",
    "\n",
    "    - 1 column is categorical column\n",
    " \n",
    "    - another column is Numerical data columns\n",
    " \n",
    "- we already created a dataframe with continents **continent_df**\n",
    "\n",
    "- it has 2 columns\n",
    "   - continent\n",
    "   - count\n",
    " \n",
    "-  package : **matplotlib** "
   ]
  },
  {
   "cell_type": "code",
   "execution_count": 33,
   "id": "6012b76c-45d7-4751-bed7-6bf793b0a083",
   "metadata": {},
   "outputs": [
    {
     "data": {
      "text/plain": [
       "<BarContainer object of 6 artists>"
      ]
     },
     "execution_count": 33,
     "metadata": {},
     "output_type": "execute_result"
    },
    {
     "data": {
      "image/png": "[encoded data removed]",
      "text/plain": [
       "<Figure size 640x480 with 1 Axes>"
      ]
     },
     "metadata": {},
     "output_type": "display_data"
    }
   ],
   "source": [
    "plt.bar('Continent','Count',data=continent_df)\n"
   ]
  },
  {
   "cell_type": "code",
   "execution_count": 34,
   "id": "beb5bf63-6128-4aab-9fe0-963270f41e02",
   "metadata": {},
   "outputs": [
    {
     "data": {
      "text/plain": [
       "<function matplotlib.pyplot.show(close=None, block=None)>"
      ]
     },
     "execution_count": 34,
     "metadata": {},
     "output_type": "execute_result"
    },
    {
     "data": {
      "image/png": "[encoded data removed]",
      "text/plain": [
       "<Figure size 640x480 with 1 Axes>"
      ]
     },
     "metadata": {},
     "output_type": "display_data"
    }
   ],
   "source": [
    "plt.bar('Continent','Count',data=continent_df)\n",
    "plt.show"
   ]
  },
  {
   "cell_type": "code",
   "execution_count": 38,
   "id": "7a3eab0c-eb2c-40cd-889f-fb3a7ec0a1e3",
   "metadata": {},
   "outputs": [
    {
     "data": {
      "image/png": "[encoded data removed]",
      "text/plain": [
       "<Figure size 640x480 with 1 Axes>"
      ]
     },
     "metadata": {},
     "output_type": "display_data"
    }
   ],
   "source": [
    "\n",
    "plt.bar('Continent','Count',data=continent_df)\n",
    "plt.title(\"Bar chart\")\n",
    "plt.xlabel(\"Continent\")\n",
    "plt.ylabel(\"Count\")\n",
    "plt.show()"
   ]
  },
  {
   "cell_type": "code",
   "execution_count": 42,
   "id": "e349d4f8-6fb0-4038-84b0-65bfb29b3782",
   "metadata": {},
   "outputs": [
    {
     "data": {
      "image/png": "[encoded data removed]",
      "text/plain": [
       "<Figure size 800x500 with 1 Axes>"
      ]
     },
     "metadata": {},
     "output_type": "display_data"
    }
   ],
   "source": [
    "# to seperate names of continent like south aamerica , Oceania figsize(hight,width)(horizental,vertical)\n",
    "plt.figure(figsize=(8,5))  # changing figure layout\n",
    "plt.bar('Continent','Count',data=continent_df)   #plot\n",
    "plt.title(\"Bar chart\")     # title of the plot\n",
    "plt.xlabel(\"Continent\")     # X-axis name\n",
    "plt.ylabel(\"Count\")         # Y-axis name\n",
    "plt.savefig(\"barchart.jpg\") # save in the computer as a image in jpg\n",
    "plt.savefig(\"barchart.png\") # in png\n",
    "plt.show()                  # show will always at last"
   ]
  },
  {
   "cell_type": "code",
   "execution_count": null,
   "id": "218121cb-333d-4955-bc75-2b62e12f0b7a",
   "metadata": {},
   "outputs": [],
   "source": []
  },
  {
   "cell_type": "markdown",
   "id": "4c29457d-1a25-4dcf-8b7f-475b06eb857d",
   "metadata": {},
   "source": [
    "**COUNT Plot**"
   ]
  },
  {
   "cell_type": "markdown",
   "id": "23392264-60b9-4df2-8864-db02a09f97b8",
   "metadata": {},
   "source": [
    "- count plot from seaborn package\n",
    "\n",
    "- It is also similar like bar chart only\n",
    "\n",
    "- It is required only main data frame name\n",
    "\n",
    "- And Column name\n",
    "\n",
    "- Our main data frame name is : **visa_df**\n",
    "\n",
    "- Column name : **Continent**\n",
    "\n",
    "- seabore count plot is easy compare to matplotlib bar chart\n",
    "\n",
    "- If u want plot bar chart with matplot we required 2 columns\n",
    "\n",
    "- but seaborn 1 column catgorical column is enough"
   ]
  },
  {
   "cell_type": "code",
   "execution_count": 43,
   "id": "30c82464-a350-4c8a-8cf3-45101552ddb5",
   "metadata": {},
   "outputs": [
    {
     "data": {
      "image/png": "[encoded data removed]",
      "text/plain": [
       "<Figure size 640x480 with 1 Axes>"
      ]
     },
     "metadata": {},
     "output_type": "display_data"
    }
   ],
   "source": [
    "sns.countplot(data=visa_df,x='continent')\n",
    "plt.title(\"Bar chart\")\n",
    "plt.xlabel(\"Continent\")\n",
    "plt.ylabel(\"Count\")\n",
    "plt.show()"
   ]
  },
  {
   "cell_type": "code",
   "execution_count": 47,
   "id": "bdab61f8-e6a6-414a-8d51-772f4445a9a7",
   "metadata": {},
   "outputs": [
    {
     "ename": "NameError",
     "evalue": "name 'Keys' is not defined",
     "output_type": "error",
     "traceback": [
      "\u001b[1;31m---------------------------------------------------------------------------\u001b[0m",
      "\u001b[1;31mNameError\u001b[0m                                 Traceback (most recent call last)",
      "Cell \u001b[1;32mIn[47], line 4\u001b[0m\n\u001b[0;32m      1\u001b[0m cdf\u001b[38;5;241m=\u001b[39mvisa_df[\u001b[38;5;124m'\u001b[39m\u001b[38;5;124mcontinent\u001b[39m\u001b[38;5;124m'\u001b[39m]\u001b[38;5;241m.\u001b[39mvalue_counts()\n\u001b[0;32m      2\u001b[0m keys\u001b[38;5;241m=\u001b[39mcdf\u001b[38;5;241m.\u001b[39mkeys()\n\u001b[0;32m      3\u001b[0m sns\u001b[38;5;241m.\u001b[39mcountplot(data\u001b[38;5;241m=\u001b[39mvisa_df,x\u001b[38;5;241m=\u001b[39m\u001b[38;5;124m'\u001b[39m\u001b[38;5;124mcontinent\u001b[39m\u001b[38;5;124m'\u001b[39m,\n\u001b[1;32m----> 4\u001b[0m              order\u001b[38;5;241m=\u001b[39mKeys)\n\u001b[0;32m      5\u001b[0m plt\u001b[38;5;241m.\u001b[39mtitle(\u001b[38;5;124m\"\u001b[39m\u001b[38;5;124mBar chart\u001b[39m\u001b[38;5;124m\"\u001b[39m)\n\u001b[0;32m      6\u001b[0m plt\u001b[38;5;241m.\u001b[39mxlabel(\u001b[38;5;124m\"\u001b[39m\u001b[38;5;124mContinent\u001b[39m\u001b[38;5;124m\"\u001b[39m)\n",
      "\u001b[1;31mNameError\u001b[0m: name 'Keys' is not defined"
     ]
    }
   ],
   "source": [
    "cdf=visa_df['continent'].value_counts()\n",
    "keys=cdf.keys()\n",
    "sns.countplot(data=visa_df,\n",
    "              x='continent',\n",
    "             order=Keys)\n",
    "plt.title(\"Bar chart\")\n",
    "plt.xlabel(\"Continent\")\n",
    "plt.ylabel(\"Count\")\n",
    "plt.show()"
   ]
  },
  {
   "cell_type": "code",
   "execution_count": null,
   "id": "a2df73c3-08e7-4895-bd50-e0505ded5eba",
   "metadata": {},
   "outputs": [],
   "source": []
  },
  {
   "cell_type": "markdown",
   "id": "afe84d20-0829-4d65-a0ba-380008527247",
   "metadata": {},
   "source": [
    "**Method-3**\n",
    "\n",
    "- we can create a plot from vale counts directly\n",
    "\n",
    "- Always keep in mind, plotting is like a ocean\n",
    "\n",
    "- Different people has different ideas\n",
    "\n",
    "- And different menthods are avalible\n",
    "\n",
    "- Based on requirements we can choose the methods "
   ]
  },
  {
   "cell_type": "code",
   "execution_count": 48,
   "id": "83e93f47-4f7e-477c-9455-bba1aa639df3",
   "metadata": {},
   "outputs": [
    {
     "data": {
      "text/plain": [
       "array([16861,  3732,  3292,   852,   551,   192], dtype=int64)"
      ]
     },
     "execution_count": 48,
     "metadata": {},
     "output_type": "execute_result"
    }
   ],
   "source": [
    "cdf=visa_df['continent'].value_counts()\n",
    "values=cdf.values\n",
    "values"
   ]
  },
  {
   "cell_type": "code",
   "execution_count": 50,
   "id": "858e07a3-132d-47ce-ad3e-de424cf845da",
   "metadata": {},
   "outputs": [
    {
     "data": {
      "text/plain": [
       "['T',\n",
       " '__abs__',\n",
       " '__add__',\n",
       " '__and__',\n",
       " '__array__',\n",
       " '__array_finalize__',\n",
       " '__array_function__',\n",
       " '__array_interface__',\n",
       " '__array_prepare__',\n",
       " '__array_priority__',\n",
       " '__array_struct__',\n",
       " '__array_ufunc__',\n",
       " '__array_wrap__',\n",
       " '__bool__',\n",
       " '__class__',\n",
       " '__class_getitem__',\n",
       " '__complex__',\n",
       " '__contains__',\n",
       " '__copy__',\n",
       " '__deepcopy__',\n",
       " '__delattr__',\n",
       " '__delitem__',\n",
       " '__dir__',\n",
       " '__divmod__',\n",
       " '__dlpack__',\n",
       " '__dlpack_device__',\n",
       " '__doc__',\n",
       " '__eq__',\n",
       " '__float__',\n",
       " '__floordiv__',\n",
       " '__format__',\n",
       " '__ge__',\n",
       " '__getattribute__',\n",
       " '__getitem__',\n",
       " '__getstate__',\n",
       " '__gt__',\n",
       " '__hash__',\n",
       " '__iadd__',\n",
       " '__iand__',\n",
       " '__ifloordiv__',\n",
       " '__ilshift__',\n",
       " '__imatmul__',\n",
       " '__imod__',\n",
       " '__imul__',\n",
       " '__index__',\n",
       " '__init__',\n",
       " '__init_subclass__',\n",
       " '__int__',\n",
       " '__invert__',\n",
       " '__ior__',\n",
       " '__ipow__',\n",
       " '__irshift__',\n",
       " '__isub__',\n",
       " '__iter__',\n",
       " '__itruediv__',\n",
       " '__ixor__',\n",
       " '__le__',\n",
       " '__len__',\n",
       " '__lshift__',\n",
       " '__lt__',\n",
       " '__matmul__',\n",
       " '__mod__',\n",
       " '__mul__',\n",
       " '__ne__',\n",
       " '__neg__',\n",
       " '__new__',\n",
       " '__or__',\n",
       " '__pos__',\n",
       " '__pow__',\n",
       " '__radd__',\n",
       " '__rand__',\n",
       " '__rdivmod__',\n",
       " '__reduce__',\n",
       " '__reduce_ex__',\n",
       " '__repr__',\n",
       " '__rfloordiv__',\n",
       " '__rlshift__',\n",
       " '__rmatmul__',\n",
       " '__rmod__',\n",
       " '__rmul__',\n",
       " '__ror__',\n",
       " '__rpow__',\n",
       " '__rrshift__',\n",
       " '__rshift__',\n",
       " '__rsub__',\n",
       " '__rtruediv__',\n",
       " '__rxor__',\n",
       " '__setattr__',\n",
       " '__setitem__',\n",
       " '__setstate__',\n",
       " '__sizeof__',\n",
       " '__str__',\n",
       " '__sub__',\n",
       " '__subclasshook__',\n",
       " '__truediv__',\n",
       " '__xor__',\n",
       " 'all',\n",
       " 'any',\n",
       " 'argmax',\n",
       " 'argmin',\n",
       " 'argpartition',\n",
       " 'argsort',\n",
       " 'astype',\n",
       " 'base',\n",
       " 'byteswap',\n",
       " 'choose',\n",
       " 'clip',\n",
       " 'compress',\n",
       " 'conj',\n",
       " 'conjugate',\n",
       " 'copy',\n",
       " 'ctypes',\n",
       " 'cumprod',\n",
       " 'cumsum',\n",
       " 'data',\n",
       " 'diagonal',\n",
       " 'dot',\n",
       " 'dtype',\n",
       " 'dump',\n",
       " 'dumps',\n",
       " 'fill',\n",
       " 'flags',\n",
       " 'flat',\n",
       " 'flatten',\n",
       " 'getfield',\n",
       " 'imag',\n",
       " 'item',\n",
       " 'itemset',\n",
       " 'itemsize',\n",
       " 'max',\n",
       " 'mean',\n",
       " 'min',\n",
       " 'nbytes',\n",
       " 'ndim',\n",
       " 'newbyteorder',\n",
       " 'nonzero',\n",
       " 'partition',\n",
       " 'prod',\n",
       " 'ptp',\n",
       " 'put',\n",
       " 'ravel',\n",
       " 'real',\n",
       " 'repeat',\n",
       " 'reshape',\n",
       " 'resize',\n",
       " 'round',\n",
       " 'searchsorted',\n",
       " 'setfield',\n",
       " 'setflags',\n",
       " 'shape',\n",
       " 'size',\n",
       " 'sort',\n",
       " 'squeeze',\n",
       " 'std',\n",
       " 'strides',\n",
       " 'sum',\n",
       " 'swapaxes',\n",
       " 'take',\n",
       " 'tobytes',\n",
       " 'tofile',\n",
       " 'tolist',\n",
       " 'tostring',\n",
       " 'trace',\n",
       " 'transpose',\n",
       " 'var',\n",
       " 'view']"
      ]
     },
     "execution_count": 50,
     "metadata": {},
     "output_type": "execute_result"
    }
   ],
   "source": [
    "dir(values)"
   ]
  },
  {
   "cell_type": "code",
   "execution_count": 51,
   "id": "c62009d6-7512-4881-a7bc-8033a03fc51f",
   "metadata": {},
   "outputs": [
    {
     "data": {
      "text/plain": [
       "<Axes: xlabel='continent'>"
      ]
     },
     "execution_count": 51,
     "metadata": {},
     "output_type": "execute_result"
    },
    {
     "data": {
      "image/png": "[encoded data removed]",
      "text/plain": [
       "<Figure size 640x480 with 1 Axes>"
      ]
     },
     "metadata": {},
     "output_type": "display_data"
    }
   ],
   "source": [
    "cdf=visa_df['continent'].value_counts()\n",
    "cdf.plot(kind='bar')"
   ]
  },
  {
   "cell_type": "code",
   "execution_count": 53,
   "id": "d2825b2a-c75e-4092-8ff4-99dd775b2a57",
   "metadata": {},
   "outputs": [
    {
     "data": {
      "image/png": "[encoded data removed]",
      "text/plain": [
       "<Figure size 640x480 with 1 Axes>"
      ]
     },
     "metadata": {},
     "output_type": "display_data"
    }
   ],
   "source": [
    "cdf=visa_df['continent'].value_counts()\n",
    "ax=cdf.plot(kind='bar')\n",
    "ax.bar_label(ax.containers[0])\n",
    "plt.show()"
   ]
  },
  {
   "cell_type": "code",
   "execution_count": 54,
   "id": "f44ab2dc-e5e4-43cd-8d79-1a5a94779e56",
   "metadata": {},
   "outputs": [
    {
     "data": {
      "text/plain": [
       "[Text(0, 0, '16861'),\n",
       " Text(0, 0, '3732'),\n",
       " Text(0, 0, '3292'),\n",
       " Text(0, 0, '852'),\n",
       " Text(0, 0, '551'),\n",
       " Text(0, 0, '192')]"
      ]
     },
     "execution_count": 54,
     "metadata": {},
     "output_type": "execute_result"
    },
    {
     "data": {
      "image/png": "[encoded data removed]",
      "text/plain": [
       "<Figure size 640x480 with 1 Axes>"
      ]
     },
     "metadata": {},
     "output_type": "display_data"
    }
   ],
   "source": [
    "cdf=visa_df['continent'].value_counts()\n",
    "ax=cdf.plot(kind='bar')\n",
    "ax.bar_label(ax.containers[0])"
   ]
  },
  {
   "cell_type": "code",
   "execution_count": null,
   "id": "441ecdad-1789-4ab7-9b6b-700f7025a59c",
   "metadata": {},
   "outputs": [],
   "source": [
    "#######################################====="
   ]
  },
  {
   "cell_type": "code",
   "execution_count": null,
   "id": "24c81f2d-1973-4072-92bd-bf78982c287a",
   "metadata": {},
   "outputs": [],
   "source": []
  },
  {
   "cell_type": "markdown",
   "id": "a5ae4c52-a716-49e1-9ccc-fec4bb301d47",
   "metadata": {},
   "source": [
    "$Subplots$"
   ]
  },
  {
   "cell_type": "code",
   "execution_count": 55,
   "id": "e39b8e58-4c65-4423-89b4-bf21b97e6e9a",
   "metadata": {},
   "outputs": [
    {
     "data": {
      "text/plain": [
       "<Axes: >"
      ]
     },
     "execution_count": 55,
     "metadata": {},
     "output_type": "execute_result"
    },
    {
     "data": {
      "image/png": "[encoded data removed]",
      "text/plain": [
       "<Figure size 640x480 with 2 Axes>"
      ]
     },
     "metadata": {},
     "output_type": "display_data"
    }
   ],
   "source": [
    "plt.subplot(1,2,1)\n",
    "plt.subplot(1,2,2)\n",
    "\n",
    "#(1,2) 1 row and 2 columns\n",
    "#How many plots 2 plots"
   ]
  },
  {
   "cell_type": "code",
   "execution_count": 56,
   "id": "cc0f8e86-1603-4c41-b1cc-740df9c8c03f",
   "metadata": {},
   "outputs": [
    {
     "data": {
      "text/plain": [
       "<Axes: >"
      ]
     },
     "execution_count": 56,
     "metadata": {},
     "output_type": "execute_result"
    },
    {
     "data": {
      "image/png": "[encoded data removed]",
      "text/plain": [
       "<Figure size 640x480 with 4 Axes>"
      ]
     },
     "metadata": {},
     "output_type": "display_data"
    }
   ],
   "source": [
    "plt.subplot(2,2,1)\n",
    "plt.subplot(2,2,2)\n",
    "plt.subplot(2,2,3)\n",
    "plt.subplot(2,2,4)"
   ]
  },
  {
   "cell_type": "code",
   "execution_count": 60,
   "id": "5f3f00c3-fae8-446d-a8ac-b37d0804985d",
   "metadata": {},
   "outputs": [
    {
     "data": {
      "image/png": "[encoded data removed]",
      "text/plain": [
       "<Figure size 640x480 with 9 Axes>"
      ]
     },
     "metadata": {},
     "output_type": "display_data"
    }
   ],
   "source": [
    "for i in range(1,10):\n",
    "    plt.subplot(3,3,i)"
   ]
  },
  {
   "cell_type": "markdown",
   "id": "7c684ebf-17c8-4d6d-b23f-b5bdcf259999",
   "metadata": {},
   "source": [
    "**Relative frequency**\n",
    "\n",
    "- Frequency tabels values provides in percentages"
   ]
  },
  {
   "cell_type": "code",
   "execution_count": 62,
   "id": "f52566ce-f337-4a76-b6ac-f01d694494c2",
   "metadata": {},
   "outputs": [
    {
     "data": {
      "text/plain": [
       "continent\n",
       "Asia             0.661735\n",
       "Europe           0.146468\n",
       "North America    0.129199\n",
       "South America    0.033438\n",
       "Africa           0.021625\n",
       "Oceania          0.007535\n",
       "Name: proportion, dtype: float64"
      ]
     },
     "execution_count": 62,
     "metadata": {},
     "output_type": "execute_result"
    }
   ],
   "source": [
    "visa_df['continent'].value_counts(normalize=True)"
   ]
  },
  {
   "cell_type": "markdown",
   "id": "8102b46e-ec3b-4068-8661-621299eab78e",
   "metadata": {},
   "source": [
    "**pie chart**\n",
    "\n",
    "- pie chart has 360 degress view\n",
    "\n",
    "- It provides percentage of value\n",
    "\n",
    "- pie chart from matplotlib\n",
    "\n",
    "- it requires keys and values , we can get from value counts "
   ]
  },
  {
   "cell_type": "code",
   "execution_count": 63,
   "id": "da5f78b8-55f7-44c8-9e48-626178c5e626",
   "metadata": {},
   "outputs": [
    {
     "data": {
      "text/plain": [
       "(Index(['Asia', 'Europe', 'North America', 'South America', 'Africa',\n",
       "        'Oceania'],\n",
       "       dtype='object', name='continent'),\n",
       " array([16861,  3732,  3292,   852,   551,   192], dtype=int64))"
      ]
     },
     "execution_count": 63,
     "metadata": {},
     "output_type": "execute_result"
    }
   ],
   "source": [
    "visa_df['continent'].value_counts()\n",
    "keys=cdf.keys()\n",
    "values=cdf.values\n",
    "keys,values"
   ]
  },
  {
   "cell_type": "code",
   "execution_count": 64,
   "id": "8aab2383-0063-4d83-96e8-30046e74059c",
   "metadata": {},
   "outputs": [
    {
     "data": {
      "text/plain": [
       "([<matplotlib.patches.Wedge at 0x22b896fbe10>,\n",
       "  <matplotlib.patches.Wedge at 0x22b88d39890>,\n",
       "  <matplotlib.patches.Wedge at 0x22b88d3a710>,\n",
       "  <matplotlib.patches.Wedge at 0x22b869d4450>,\n",
       "  <matplotlib.patches.Wedge at 0x22b88d68590>,\n",
       "  <matplotlib.patches.Wedge at 0x22b88d6abd0>],\n",
       " [Text(-0.5351743362316361, 0.9610350825224997, ''),\n",
       "  Text(-0.10373513115748138, -1.0950977228374372, ''),\n",
       "  Text(0.7670026411947619, -0.7884839557024984, ''),\n",
       "  Text(1.0546117976794491, -0.3127202522947962, ''),\n",
       "  Text(1.0926986108246142, -0.12652962460213996, ''),\n",
       "  Text(1.0996917916121562, -0.026037731484255974, '')])"
      ]
     },
     "execution_count": 64,
     "metadata": {},
     "output_type": "execute_result"
    },
    {
     "data": {
      "image/png": "[encoded data removed]",
      "text/plain": [
       "<Figure size 640x480 with 1 Axes>"
      ]
     },
     "metadata": {},
     "output_type": "display_data"
    }
   ],
   "source": [
    "plt.pie(values)"
   ]
  },
  {
   "cell_type": "code",
   "execution_count": 69,
   "id": "65f94bac-e7ae-4da3-915a-39adca2ce41d",
   "metadata": {},
   "outputs": [
    {
     "data": {
      "image/png": "[encoded data removed]",
      "text/plain": [
       "<Figure size 640x480 with 1 Axes>"
      ]
     },
     "metadata": {},
     "output_type": "display_data"
    }
   ],
   "source": [
    "plt.pie(values,\n",
    "        explode=[0.1,0.1,0.1,0.1,0.1,0.1],\n",
    "        labels=keys,\n",
    "        autopct='%0.2f%%',\n",
    "       startangle=180,\n",
    "       radius=1)\n",
    "plt.show()"
   ]
  },
  {
   "cell_type": "code",
   "execution_count": null,
   "id": "29b04988-7a57-4cab-b0b6-d5999f3c77bf",
   "metadata": {},
   "outputs": [],
   "source": []
  }
 ],
 "metadata": {
  "kernelspec": {
   "display_name": "Python 3 (ipykernel)",
   "language": "python",
   "name": "python3"
  },
  "language_info": {
   "codemirror_mode": {
    "name": "ipython",
    "version": 3
   },
   "file_extension": ".py",
   "mimetype": "text/x-python",
   "name": "python",
   "nbconvert_exporter": "python",
   "pygments_lexer": "ipython3",
   "version": "3.11.7"
  }
 },
 "nbformat": 4,
 "nbformat_minor": 5
}
